{
 "cells": [
  {
   "cell_type": "code",
   "execution_count": 3,
   "metadata": {},
   "outputs": [],
   "source": [
    "import random\n",
    "import string"
   ]
  },
  {
   "cell_type": "code",
   "execution_count": 29,
   "metadata": {},
   "outputs": [
    {
     "name": "stdout",
     "output_type": "stream",
     "text": [
      "GERADOR DE SENHAS\n",
      "------------------\n",
      "Senha de 10 dígitos gerada com sucesso! Resultado abaixo:\n",
      "------------------\n",
      "F:C3J/}d\\A\n"
     ]
    }
   ],
   "source": [
    "def password_generator():\n",
    "        \n",
    "    while True:\n",
    "\n",
    "        print('GERADOR DE SENHAS')\n",
    "        print('------------------')\n",
    "        digitos = int(input('Digite quantos digítos terá sua senha: '))\n",
    "        if 4 <= digitos <= 10:\n",
    "            print(f'Senha de {digitos} dígitos gerada com sucesso! Resultado abaixo:')\n",
    "            print('------------------')\n",
    "            \n",
    "            # Criando uma lista com os caracteres obrigatórios da senha\n",
    "\n",
    "            caracteres_obrigatorios = string.ascii_letters + string.digits + string.punctuation\n",
    "            senha = [\n",
    "                random.choice(string.punctuation),\n",
    "                random.choice(string.ascii_uppercase),\n",
    "                random.choice(string.ascii_lowercase),\n",
    "                random.choice(string.digits)]\n",
    "            \n",
    "            senha += random.choices(caracteres_obrigatorios, k = digitos-4)\n",
    "            random.shuffle(senha)\n",
    "        else:\n",
    "            print('Entrada inválida! Favor digitar número entre 4 e 10.')\n",
    "            break\n",
    "        return ''.join(senha) # Transformando o array em string pra visualização ideal pra copiar\n",
    "\n",
    "senha = password_generator() # Atualiza a variável 'senha' com a senha aleatória gerada e imprime na linha seguinte\n",
    "print(senha)"
   ]
  },
  {
   "cell_type": "code",
   "execution_count": null,
   "metadata": {},
   "outputs": [],
   "source": []
  }
 ],
 "metadata": {
  "kernelspec": {
   "display_name": "Python 3",
   "language": "python",
   "name": "python3"
  },
  "language_info": {
   "codemirror_mode": {
    "name": "ipython",
    "version": 3
   },
   "file_extension": ".py",
   "mimetype": "text/x-python",
   "name": "python",
   "nbconvert_exporter": "python",
   "pygments_lexer": "ipython3",
   "version": "3.12.6"
  }
 },
 "nbformat": 4,
 "nbformat_minor": 2
}
