{
 "cells": [
  {
   "cell_type": "code",
   "execution_count": 1,
   "metadata": {},
   "outputs": [],
   "source": [
    "# abaixo serão colocadas as linhas de código de um programa gerador de senha\n",
    "# por enquanto fiz apenas a parte que pede ao usuário o número de dígitos que ele quer na senha"
   ]
  },
  {
   "cell_type": "code",
   "execution_count": 1,
   "metadata": {},
   "outputs": [],
   "source": [
    "import pandas as pd\n",
    "import random"
   ]
  },
  {
   "cell_type": "code",
   "execution_count": 18,
   "metadata": {},
   "outputs": [
    {
     "name": "stdout",
     "output_type": "stream",
     "text": [
      "GERADOR DE SENHAS\n",
      "------------------\n",
      "Senha de 10 dígitos:\n"
     ]
    }
   ],
   "source": [
    "def password_generator():\n",
    "        \n",
    "    while True:\n",
    "\n",
    "        print('GERADOR DE SENHAS')\n",
    "        print('------------------')\n",
    "        digitos = int(input('Digite quantos digítos terá sua senha: '))\n",
    "        if 4 <= digitos <= 10:\n",
    "            print(f'Senha de {digitos} dígitos:')\n",
    "            break\n",
    "        else:\n",
    "            print('Entrada inválida! Favor digitar número entre 4 e 10.')\n",
    "\n",
    "password_generator()"
   ]
  },
  {
   "cell_type": "code",
   "execution_count": null,
   "metadata": {},
   "outputs": [],
   "source": []
  }
 ],
 "metadata": {
  "kernelspec": {
   "display_name": "Python 3",
   "language": "python",
   "name": "python3"
  },
  "language_info": {
   "codemirror_mode": {
    "name": "ipython",
    "version": 3
   },
   "file_extension": ".py",
   "mimetype": "text/x-python",
   "name": "python",
   "nbconvert_exporter": "python",
   "pygments_lexer": "ipython3",
   "version": "3.12.6"
  }
 },
 "nbformat": 4,
 "nbformat_minor": 2
}
